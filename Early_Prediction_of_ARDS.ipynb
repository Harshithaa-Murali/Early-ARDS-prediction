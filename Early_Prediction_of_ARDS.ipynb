{
  "cells": [
    {
      "cell_type": "markdown",
      "metadata": {
        "id": "view-in-github",
        "colab_type": "text"
      },
      "source": [
        "<a href=\"https://colab.research.google.com/github/gokullan/early-ARDS-prediction/blob/main/Early_Prediction_of_ARDS.ipynb\" target=\"_parent\"><img src=\"https://colab.research.google.com/assets/colab-badge.svg\" alt=\"Open In Colab\"/></a>"
      ]
    },
    {
      "cell_type": "code",
      "execution_count": null,
      "metadata": {
        "id": "w6MmeBUBJ-9E"
      },
      "outputs": [],
      "source": [
        "# @title Setup\n",
        "from google.colab import auth\n",
        "from google.cloud import bigquery\n",
        "from google.colab import data_table\n",
        "\n",
        "project = 'fit-parity-376107' # Project ID inserted based on the query results selected to explore\n",
        "location = 'US' # Location inserted based on the query results selected to explore\n",
        "client = bigquery.Client(project=project, location=location)\n",
        "data_table.enable_dataframe_formatter()\n",
        "auth.authenticate_user()"
      ]
    },
    {
      "cell_type": "markdown",
      "source": [
        "## Load data from BigQuery"
      ],
      "metadata": {
        "id": "G07joQnZKgtk"
      }
    },
    {
      "cell_type": "code",
      "source": [
        "table_id = 'fit-parity-376107.resultsdata.abvvs_2'\n",
        "dataset = client.get_table(table_id)\n",
        "# convert to Dataframe\n",
        "dataset = client.list_rows(dataset).to_dataframe()"
      ],
      "metadata": {
        "id": "SGOdFAZ1Kmos"
      },
      "execution_count": null,
      "outputs": []
    },
    {
      "cell_type": "markdown",
      "source": [
        "## Exploring the Data"
      ],
      "metadata": {
        "id": "FLUAnuGaNuvO"
      }
    },
    {
      "cell_type": "markdown",
      "source": [
        "For details on how the data was selected from the `mimiciv` database, please visit [this link](https://annipriscillaa.atlassian.net/l/cp/z107dHaM) "
      ],
      "metadata": {
        "id": "MGmFDklbs0W6"
      }
    },
    {
      "cell_type": "code",
      "source": [
        "import pandas as pd\n",
        "import matplotlib.pyplot as plt"
      ],
      "metadata": {
        "id": "Iq262Z89t8zT"
      },
      "execution_count": null,
      "outputs": []
    },
    {
      "cell_type": "code",
      "source": [
        "def display_col_names(cols):\n",
        "  for num in range(1, len(cols) + 1):\n",
        "    print(\"{}. {}\".format(num, cols[num - 1]))\n",
        "\n",
        "columns = dataset.columns\n",
        "display_col_names(dataset.columns)"
      ],
      "metadata": {
        "colab": {
          "base_uri": "https://localhost:8080/"
        },
        "id": "6urTxmtONz1r",
        "outputId": "6fecee50-3695-44ef-a315-3df99378940b"
      },
      "execution_count": null,
      "outputs": [
        {
          "output_type": "stream",
          "name": "stdout",
          "text": [
            "1. age\n",
            "2. hadm_id\n",
            "3. sub_id\n",
            "4. stay_id\n",
            "5. c_time\n",
            "6. respiratory_rate_set\n",
            "7. respiratory_rate_total\n",
            "8. respiratory_rate_spontaneous\n",
            "9. minute_volume\n",
            "10. tidal_volume_set\n",
            "11. tidal_volume_observed\n",
            "12. tidal_volume_spontaneous\n",
            "13. plateau_pressure\n",
            "14. peep\n",
            "15. fio2\n",
            "16. flow_rate\n",
            "17. ventilator_mode\n",
            "18. ventilator_mode_hamilton\n",
            "19. ventilator_type\n",
            "20. heart_rate\n",
            "21. sbp\n",
            "22. dbp\n",
            "23. mbp\n",
            "24. sbp_ni\n",
            "25. dbp_ni\n",
            "26. mbp_ni\n",
            "27. resp_rate\n",
            "28. temperature\n",
            "29. temperature_site\n",
            "30. spo2\n",
            "31. glucose\n",
            "32. charttime\n",
            "33. specimen\n",
            "34. so2\n",
            "35. po2\n",
            "36. pco2\n",
            "37. fio2_chartevents\n",
            "38. aado2\n",
            "39. aado2_calc\n",
            "40. pao2fio2ratio\n",
            "41. ph\n",
            "42. baseexcess\n",
            "43. bicarbonate\n",
            "44. totalco2\n",
            "45. hematocrit\n",
            "46. hemoglobin\n",
            "47. carboxyhemoglobin\n",
            "48. methemoglobin\n",
            "49. chloride\n",
            "50. calcium\n",
            "51. potassium\n",
            "52. sodium\n",
            "53. lactate\n"
          ]
        }
      ]
    },
    {
      "cell_type": "code",
      "source": [
        "def plot"
      ],
      "metadata": {
        "id": "e-_lwElDt4Bb"
      },
      "execution_count": null,
      "outputs": []
    },
    {
      "cell_type": "code",
      "source": [
        "def get_categorical_cols(all_cols):\n",
        "  num_cols = dataset._get_numeric_data().columns\n",
        "  categorical = list(set(all_cols) - set(num_cols))\n",
        "  return categorical\n",
        "\n",
        "display_col_names(get_categorical_cols(columns))"
      ],
      "metadata": {
        "colab": {
          "base_uri": "https://localhost:8080/"
        },
        "id": "h0ggWhBxh4P_",
        "outputId": "ed1689c9-4ec2-48fb-bcaa-1c6e6fcfb1d0"
      },
      "execution_count": null,
      "outputs": [
        {
          "output_type": "stream",
          "name": "stdout",
          "text": [
            "1. temperature_site\n",
            "2. ventilator_type\n",
            "3. ventilator_mode\n",
            "4. specimen\n",
            "5. temperature\n",
            "6. charttime\n",
            "7. c_time\n",
            "8. ventilator_mode_hamilton\n"
          ]
        }
      ]
    },
    {
      "cell_type": "markdown",
      "source": [
        "### Selection of relevant parameters"
      ],
      "metadata": {
        "id": "mbU6-5ZCLNZd"
      }
    },
    {
      "cell_type": "code",
      "source": [
        "cols_eliminated = ['sub_id',\n",
        " 'aado2',\n",
        " 'aado2_calc',\n",
        " 'fio2_chartevents',\n",
        " 'baseexcess',\n",
        " 'bicarbonate',\n",
        " 'totalco2',\n",
        " 'hematocrit',\n",
        " 'hemoglobin',\n",
        " 'carboxyhemoglobin',\n",
        " 'methemoglobin',\n",
        " 'chloride',\n",
        " 'calcium',\n",
        " 'potassium',\n",
        " 'sodium',\n",
        " 'lactate']\n",
        "\n",
        "cols_selected = list(set(dataset._get_numeric_data().columns) - set(cols_eliminated))\n",
        "cols_selected = ['c_time'] + cols_selected\n",
        "samples_all = dataset[cols_selected]"
      ],
      "metadata": {
        "id": "dWoADEPSlttW"
      },
      "execution_count": null,
      "outputs": []
    },
    {
      "cell_type": "code",
      "source": [
        "cols_selected"
      ],
      "metadata": {
        "colab": {
          "base_uri": "https://localhost:8080/"
        },
        "id": "ranMlgX9uKYM",
        "outputId": "dded5859-8faa-4889-c2f2-a2533c4014fe"
      },
      "execution_count": null,
      "outputs": [
        {
          "output_type": "execute_result",
          "data": {
            "text/plain": [
              "['c_time',\n",
              " 'dbp_ni',\n",
              " 'hadm_id',\n",
              " 'pco2',\n",
              " 'spo2',\n",
              " 'plateau_pressure',\n",
              " 'heart_rate',\n",
              " 'sbp_ni',\n",
              " 'stay_id',\n",
              " 'tidal_volume_observed',\n",
              " 'sbp',\n",
              " 'ph',\n",
              " 'fio2',\n",
              " 'dbp',\n",
              " 'respiratory_rate_spontaneous',\n",
              " 'glucose',\n",
              " 'peep',\n",
              " 'respiratory_rate_set',\n",
              " 'age',\n",
              " 'mbp_ni',\n",
              " 'tidal_volume_set',\n",
              " 'respiratory_rate_total',\n",
              " 'flow_rate',\n",
              " 'mbp',\n",
              " 'po2',\n",
              " 'so2',\n",
              " 'pao2fio2ratio',\n",
              " 'minute_volume',\n",
              " 'resp_rate',\n",
              " 'tidal_volume_spontaneous']"
            ]
          },
          "metadata": {},
          "execution_count": 27
        }
      ]
    },
    {
      "cell_type": "markdown",
      "source": [
        "### Fill missing values using 'forward fill' method"
      ],
      "metadata": {
        "id": "iIy1YLMGXouM"
      }
    },
    {
      "cell_type": "code",
      "source": [
        "samples_all = samples_all.fillna(method='ffill')\n",
        "n = len(samples_all)"
      ],
      "metadata": {
        "id": "uNqCdfG2VTqF"
      },
      "execution_count": null,
      "outputs": []
    },
    {
      "cell_type": "markdown",
      "source": [
        "### Order all samples by their `stay_id`s, then by their `c_time`s"
      ],
      "metadata": {
        "id": "8zLSvmgCQ1Vf"
      }
    },
    {
      "cell_type": "code",
      "source": [
        "samples_grouped = samples_all.groupby(by='stay_id')\n",
        "grouped_and_sorted = []\n",
        "for name, group in samples_grouped.__iter__():\n",
        "  # consider only those records that have at least 10 samples\n",
        "  if (len(group) > 10):\n",
        "    grouped_and_sorted.append(group.sort_values(by='c_time').reset_index(drop=True))"
      ],
      "metadata": {
        "id": "CgaH46VJRT55"
      },
      "execution_count": null,
      "outputs": []
    },
    {
      "cell_type": "code",
      "source": [
        "len(grouped_and_sorted)"
      ],
      "metadata": {
        "colab": {
          "base_uri": "https://localhost:8080/"
        },
        "id": "dTbqTI5aSRAi",
        "outputId": "b7f29a4a-d24f-42be-8571-07ed8a222957"
      },
      "execution_count": null,
      "outputs": [
        {
          "output_type": "execute_result",
          "data": {
            "text/plain": [
              "5084"
            ]
          },
          "metadata": {},
          "execution_count": 30
        }
      ]
    },
    {
      "cell_type": "markdown",
      "source": [
        "### Prepare the training set"
      ],
      "metadata": {
        "id": "9XE-QiqqP-dZ"
      }
    },
    {
      "cell_type": "code",
      "source": [
        "def find_onset_time(stay):\n",
        "  for index, row in stay.iterrows():\n",
        "    if row['peep'] >= 5 and row['pao2fio2ratio'] < 300:\n",
        "      return index\n",
        "  return -1"
      ],
      "metadata": {
        "id": "dn3fLOY1cUnn"
      },
      "execution_count": null,
      "outputs": []
    },
    {
      "cell_type": "code",
      "source": [
        "positive = []\n",
        "negative = []\n",
        "for group in grouped_and_sorted:\n",
        "  onset_time_index = find_onset_time(group)\n",
        "  if onset_time_index != -1:\n",
        "    duration = group.iloc[onset_time_index]['c_time'] - group.iloc[0]['c_time']\n",
        "    duration = duration.total_seconds() / 3600\n",
        "    if duration >= 6 and onset_time_index >= 9:\n",
        "      positive.append(group.iloc[:onset_time_index + 1])\n",
        "  else:\n",
        "    negative.append(group)\n",
        "print(\"{} {}\".format(len(positive), len(negative)))"
      ],
      "metadata": {
        "id": "xE6lPRojdGuU",
        "colab": {
          "base_uri": "https://localhost:8080/"
        },
        "outputId": "d69db25b-0c3c-4841-be37-f73c95d8d39e"
      },
      "execution_count": null,
      "outputs": [
        {
          "output_type": "stream",
          "name": "stdout",
          "text": [
            "84 54\n"
          ]
        }
      ]
    },
    {
      "cell_type": "code",
      "source": [
        "def make_rnn_samples(samples, lookback):\n",
        "  rnn_samples = []\n",
        "  for sample in samples:\n",
        "    n = len(sample)\n",
        "    for i in range(n - lookback):\n",
        "      rnn_samples.append(sample.iloc[i: i + lookback])\n",
        "  return rnn_samples"
      ],
      "metadata": {
        "id": "rAX1h_D8bAQE"
      },
      "execution_count": null,
      "outputs": []
    },
    {
      "cell_type": "code",
      "source": [
        "positive_rnn = make_rnn_samples(positive, 5)\n",
        "negative_rnn = make_rnn_samples(negative, 5)\n",
        "print(\"No. of positive samples: {}\".format(len(positive_rnn)))\n",
        "print(\"No. of negative samples: {}\".format(len(negative_rnn)))"
      ],
      "metadata": {
        "id": "t7Qh0anpp1c-",
        "colab": {
          "base_uri": "https://localhost:8080/"
        },
        "outputId": "734fa407-9c41-46e0-8aac-d960e6c28fc3"
      },
      "execution_count": null,
      "outputs": [
        {
          "output_type": "stream",
          "name": "stdout",
          "text": [
            "No. of positive samples: 717\n",
            "No. of negative samples: 494\n"
          ]
        }
      ]
    },
    {
      "cell_type": "code",
      "source": [
        "rnn_samples_all = positive_rnn + negative_rnn\n",
        "labels_all = [1 for i in range(len(positive_rnn))] + [0 for i in range(len(negative_rnn))]"
      ],
      "metadata": {
        "id": "eM6rbHG0cdny"
      },
      "execution_count": null,
      "outputs": []
    },
    {
      "cell_type": "code",
      "source": [
        "from sklearn.utils import shuffle\n",
        "from sklearn.model_selection import train_test_split\n",
        "\n",
        "X, y = shuffle(rnn_samples_all, labels_all)"
      ],
      "metadata": {
        "id": "2wW9YQ2-c6YW"
      },
      "execution_count": null,
      "outputs": []
    },
    {
      "cell_type": "code",
      "source": [
        "import numpy as np\n",
        "X = [x.drop(columns=['hadm_id', 'stay_id', 'c_time', 'glucose', 'sbp_ni', 'dbp_ni', 'mbp_ni']).to_numpy() for x in X]\n",
        "X_train, X_test, y_train, y_test = train_test_split(X, y, test_size=0.3, random_state=42)"
      ],
      "metadata": {
        "id": "tBtXsDdGc9J1"
      },
      "execution_count": null,
      "outputs": []
    },
    {
      "cell_type": "code",
      "source": [
        "from sklearn.preprocessing import MinMaxScaler\n",
        "scalar = MinMaxScaler()\n",
        "X_train_s = np.array([scalar.fit_transform(x) for x in X_train]).astype(np.float32)\n",
        "X_test_s = np.array([scalar.fit_transform(x) for x in X_test]).astype(np.float32)"
      ],
      "metadata": {
        "id": "ctLhlYQeoWaW"
      },
      "execution_count": null,
      "outputs": []
    },
    {
      "cell_type": "code",
      "source": [
        "import tensorflow as tf\n",
        "from tensorflow.keras import layers, Sequential"
      ],
      "metadata": {
        "id": "s0QI_c5bdZ1p"
      },
      "execution_count": null,
      "outputs": []
    },
    {
      "cell_type": "code",
      "source": [
        "# parameters\n",
        "n_inputs = 24  # number of features\n",
        "n_neurons = 100\n",
        "n_outputs = 2\n",
        "n_layers = 2\n",
        "batch_size = 32\n",
        "n_epochs = 20"
      ],
      "metadata": {
        "id": "auM2U-pOfp4n"
      },
      "execution_count": null,
      "outputs": []
    },
    {
      "cell_type": "code",
      "source": [
        "RNNcells = [tf.keras.layers.SimpleRNNCell(n_neurons) for _ in range(n_layers)]\n",
        "rnn = tf.keras.layers.StackedRNNCells(RNNcells, input_shape = (5, n_inputs))\n",
        "RNNmodel = Sequential()\n",
        "RNNmodel.add(layers.RNN(rnn))\n",
        "# RNNmodel.add(layers.Dense(64, activation='relu'))\n",
        "RNNmodel.add(layers.Dense(n_outputs, activation='softmax'))"
      ],
      "metadata": {
        "id": "2SUPM2dihCPH"
      },
      "execution_count": null,
      "outputs": []
    },
    {
      "cell_type": "code",
      "source": [
        "RNNmodel.compile(\n",
        "    loss=tf.keras.losses.SparseCategoricalCrossentropy(),\n",
        "    optimizer=tf.keras.optimizers.Adam(),\n",
        "    metrics=['accuracy']\n",
        "  )"
      ],
      "metadata": {
        "id": "GqOiQQtZhw1p"
      },
      "execution_count": null,
      "outputs": []
    },
    {
      "cell_type": "code",
      "source": [
        "y_train = np.array(y_train).astype(np.int32)\n",
        "y_test = np.array(y_test).astype(np.int32)"
      ],
      "metadata": {
        "id": "ftGcNWeyse-_"
      },
      "execution_count": null,
      "outputs": []
    },
    {
      "cell_type": "code",
      "source": [
        "RNNmodel.fit(\n",
        "    X_train_s,\n",
        "    y_train,\n",
        "    validation_data=(X_test_s, y_test), \n",
        "    batch_size=batch_size, \n",
        "    epochs=n_epochs,\n",
        ")"
      ],
      "metadata": {
        "colab": {
          "base_uri": "https://localhost:8080/"
        },
        "id": "Xha-oYhVh-L9",
        "outputId": "a805052a-4382-4357-8f2d-3fc4df0fce0e"
      },
      "execution_count": null,
      "outputs": [
        {
          "output_type": "stream",
          "name": "stdout",
          "text": [
            "Epoch 1/20\n",
            "27/27 [==============================] - 3s 18ms/step - loss: 0.7494 - accuracy: 0.5148 - val_loss: 0.6761 - val_accuracy: 0.5934\n",
            "Epoch 2/20\n",
            "27/27 [==============================] - 0s 8ms/step - loss: 0.6543 - accuracy: 0.6021 - val_loss: 0.6758 - val_accuracy: 0.5934\n",
            "Epoch 3/20\n",
            "27/27 [==============================] - 0s 7ms/step - loss: 0.6231 - accuracy: 0.6434 - val_loss: 0.6924 - val_accuracy: 0.5742\n",
            "Epoch 4/20\n",
            "27/27 [==============================] - 0s 8ms/step - loss: 0.6052 - accuracy: 0.6635 - val_loss: 0.6999 - val_accuracy: 0.5632\n",
            "Epoch 5/20\n",
            "27/27 [==============================] - 0s 7ms/step - loss: 0.5749 - accuracy: 0.6978 - val_loss: 0.6991 - val_accuracy: 0.5659\n",
            "Epoch 6/20\n",
            "27/27 [==============================] - 0s 8ms/step - loss: 0.5479 - accuracy: 0.7332 - val_loss: 0.7452 - val_accuracy: 0.5275\n",
            "Epoch 7/20\n",
            "27/27 [==============================] - 0s 11ms/step - loss: 0.5200 - accuracy: 0.7473 - val_loss: 0.7443 - val_accuracy: 0.5577\n",
            "Epoch 8/20\n",
            "27/27 [==============================] - 0s 8ms/step - loss: 0.5013 - accuracy: 0.7615 - val_loss: 0.7571 - val_accuracy: 0.5577\n",
            "Epoch 9/20\n",
            "27/27 [==============================] - 0s 10ms/step - loss: 0.4727 - accuracy: 0.7721 - val_loss: 0.7943 - val_accuracy: 0.5082\n",
            "Epoch 10/20\n",
            "27/27 [==============================] - 0s 7ms/step - loss: 0.4007 - accuracy: 0.8630 - val_loss: 0.7695 - val_accuracy: 0.5440\n",
            "Epoch 11/20\n",
            "27/27 [==============================] - 0s 8ms/step - loss: 0.3822 - accuracy: 0.8701 - val_loss: 0.8051 - val_accuracy: 0.5330\n",
            "Epoch 12/20\n",
            "27/27 [==============================] - 0s 7ms/step - loss: 0.3388 - accuracy: 0.8843 - val_loss: 0.8310 - val_accuracy: 0.5330\n",
            "Epoch 13/20\n",
            "27/27 [==============================] - 0s 8ms/step - loss: 0.3084 - accuracy: 0.9008 - val_loss: 0.8475 - val_accuracy: 0.5247\n",
            "Epoch 14/20\n",
            "27/27 [==============================] - 0s 13ms/step - loss: 0.2663 - accuracy: 0.9256 - val_loss: 0.8665 - val_accuracy: 0.5549\n",
            "Epoch 15/20\n",
            "27/27 [==============================] - 0s 10ms/step - loss: 0.2438 - accuracy: 0.9362 - val_loss: 0.9078 - val_accuracy: 0.5549\n",
            "Epoch 16/20\n",
            "27/27 [==============================] - 0s 11ms/step - loss: 0.2049 - accuracy: 0.9599 - val_loss: 0.9586 - val_accuracy: 0.5137\n",
            "Epoch 17/20\n",
            "27/27 [==============================] - 0s 11ms/step - loss: 0.1690 - accuracy: 0.9776 - val_loss: 0.9722 - val_accuracy: 0.5357\n",
            "Epoch 18/20\n",
            "27/27 [==============================] - 0s 11ms/step - loss: 0.1389 - accuracy: 0.9858 - val_loss: 0.9666 - val_accuracy: 0.5385\n",
            "Epoch 19/20\n",
            "27/27 [==============================] - 0s 13ms/step - loss: 0.1057 - accuracy: 0.9953 - val_loss: 1.0382 - val_accuracy: 0.5467\n",
            "Epoch 20/20\n",
            "27/27 [==============================] - 0s 11ms/step - loss: 0.0949 - accuracy: 0.9941 - val_loss: 1.0634 - val_accuracy: 0.5659\n"
          ]
        },
        {
          "output_type": "execute_result",
          "data": {
            "text/plain": [
              "<keras.callbacks.History at 0x7fb655915fa0>"
            ]
          },
          "metadata": {},
          "execution_count": 49
        }
      ]
    },
    {
      "cell_type": "code",
      "source": [
        "RNNmodel.evaluate(\n",
        "    X_test_s,\n",
        "    y_test\n",
        ")"
      ],
      "metadata": {
        "id": "6G1rtj6GmM-v",
        "colab": {
          "base_uri": "https://localhost:8080/"
        },
        "outputId": "efe82620-2417-47f1-c47e-c17462de2440"
      },
      "execution_count": null,
      "outputs": [
        {
          "output_type": "stream",
          "name": "stdout",
          "text": [
            "12/12 [==============================] - 0s 3ms/step - loss: 1.0634 - accuracy: 0.5659\n"
          ]
        },
        {
          "output_type": "execute_result",
          "data": {
            "text/plain": [
              "[1.0634305477142334, 0.5659340620040894]"
            ]
          },
          "metadata": {},
          "execution_count": 50
        }
      ]
    },
    {
      "cell_type": "code",
      "source": [],
      "metadata": {
        "id": "I-x3OmgHrBjp"
      },
      "execution_count": null,
      "outputs": []
    }
  ],
  "metadata": {
    "colab": {
      "cell_execution_strategy": "setup",
      "provenance": [],
      "include_colab_link": true
    },
    "kernelspec": {
      "display_name": "Python 3",
      "name": "python3"
    },
    "language_info": {
      "name": "python"
    }
  },
  "nbformat": 4,
  "nbformat_minor": 0
}